{
 "cells": [
  {
   "cell_type": "code",
   "execution_count": 4,
   "metadata": {},
   "outputs": [
    {
     "name": "stdout",
     "output_type": "stream",
     "text": [
      "<class 'pandas.core.frame.DataFrame'>\n",
      "Index: 221 entries, AFG to ZWE\n",
      "Data columns (total 16 columns):\n",
      " #   Column               Non-Null Count  Dtype  \n",
      "---  ------               --------------  -----  \n",
      " 0   lastdate             221 non-null    object \n",
      " 1   location             221 non-null    object \n",
      " 2   total_cases          192 non-null    float64\n",
      " 3   total_deaths         185 non-null    float64\n",
      " 4   total_cases_mill     192 non-null    float64\n",
      " 5   total_deaths_mill    185 non-null    float64\n",
      " 6   population           221 non-null    float64\n",
      " 7   population_density   206 non-null    float64\n",
      " 8   median_age           190 non-null    float64\n",
      " 9   gdp_per_capita       193 non-null    float64\n",
      " 10  aged_65_older        188 non-null    float64\n",
      " 11  total_tests_thous    13 non-null     float64\n",
      " 12  life_expectancy      217 non-null    float64\n",
      " 13  hospital_beds_thous  170 non-null    float64\n",
      " 14  diabetes_prevalence  200 non-null    float64\n",
      " 15  region               221 non-null    object \n",
      "dtypes: float64(13), object(3)\n",
      "memory usage: 29.4+ KB\n"
     ]
    }
   ],
   "source": [
    "import pandas as pd\n",
    "import numpy as np\n",
    "covidtotals = pd.read_csv(\"data/covidtotals.csv\")\n",
    "covidtotals.set_index(\"iso_code\", inplace=True)\n",
    "covidtotals.info()"
   ]
  },
  {
   "cell_type": "markdown",
   "metadata": {},
   "source": []
  },
  {
   "cell_type": "code",
   "execution_count": 5,
   "metadata": {},
   "outputs": [],
   "source": [
    "totvars = ['location','total_cases_mill',\n",
    "  'total_deaths_mill']\n",
    "demovars = ['population','population_density',\n",
    "  'median_age','aged_65_older','gdp_per_capita',\n",
    "   'life_expectancy','diabetes_prevalence']\n",
    "\n",
    "# generate a correlation matrix of the cumulative and demographic data\n",
    "covidtotals[totvars + demovars].corr(method=\"pearson\")\n",
    "\n",
    "# get descriptive statistics on the cumulative values\n",
    "covidtotalsonly = covidtotals.loc[:, totvars]"
   ]
  },
  {
   "cell_type": "code",
   "execution_count": 9,
   "metadata": {},
   "outputs": [
    {
     "data": {
      "text/plain": [
       "3.0298705882352945"
      ]
     },
     "execution_count": 9,
     "metadata": {},
     "output_type": "execute_result"
    }
   ],
   "source": [
    "covidtotalsonly['total_cases_q'] = pd.\\\n",
    "  qcut(covidtotalsonly['total_cases_mill'],\n",
    "  labels=['very low','low','medium',\n",
    "  'high','very high'], q=5, precision=0)\n",
    "covidtotalsonly['total_deaths_q'] = pd.\\\n",
    "  qcut(covidtotalsonly['total_deaths_mill'],\n",
    "  labels=['very low','low','medium',\n",
    "  'high','very high'], q=5, precision=0)\n",
    "\n",
    "covidtotals.loc[(covidtotalsonly. \\\n",
    "  total_cases_q==\"very high\") & \\\n",
    "  (covidtotalsonly.total_deaths_q==\"medium\")].T\n",
    "\n",
    "covidtotals.loc[(covidtotalsonly. \\\n",
    "  total_cases_q==\"medium\") & \\\n",
    "  (covidtotalsonly.total_deaths_q==\"very high\")].T\n",
    "\n",
    "covidtotals.hospital_beds_thous.mean()"
   ]
  }
 ],
 "metadata": {
  "interpreter": {
   "hash": "70d17f54449574f2e077750b01281d6e51d92a277b94cc516b9e109ad7cefec2"
  },
  "kernelspec": {
   "display_name": "Python 3.8.5 64-bit ('base': conda)",
   "name": "python3"
  },
  "language_info": {
   "codemirror_mode": {
    "name": "ipython",
    "version": 3
   },
   "file_extension": ".py",
   "mimetype": "text/x-python",
   "name": "python",
   "nbconvert_exporter": "python",
   "pygments_lexer": "ipython3",
   "version": "3.8.10"
  },
  "orig_nbformat": 4
 },
 "nbformat": 4,
 "nbformat_minor": 2
}